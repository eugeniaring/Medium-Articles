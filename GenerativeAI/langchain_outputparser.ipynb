{
  "nbformat": 4,
  "nbformat_minor": 0,
  "metadata": {
    "colab": {
      "provenance": []
    },
    "kernelspec": {
      "name": "python3",
      "display_name": "Python 3"
    },
    "language_info": {
      "name": "python"
    }
  },
  "cells": [
    {
      "cell_type": "markdown",
      "source": [
        "## 1. Import Libraries"
      ],
      "metadata": {
        "id": "zPZEOmx6sa1k"
      }
    },
    {
      "cell_type": "code",
      "execution_count": null,
      "metadata": {
        "colab": {
          "base_uri": "https://localhost:8080/"
        },
        "id": "JoRK2SFGsRh4",
        "outputId": "74d1ce17-7318-469b-91cb-8b863ba24fa7"
      },
      "outputs": [
        {
          "output_type": "stream",
          "name": "stdout",
          "text": [
            "Collecting openai\n",
            "  Downloading openai-0.27.8-py3-none-any.whl (73 kB)\n",
            "\u001b[?25l     \u001b[90m━━━━━━━━━━━━━━━━━━━━━━━━━━━━━━━━━━━━━━━━\u001b[0m \u001b[32m0.0/73.6 kB\u001b[0m \u001b[31m?\u001b[0m eta \u001b[36m-:--:--\u001b[0m\r\u001b[2K     \u001b[90m━━━━━━━━━━━━━━━━━━━━━━━━━━━━━━━━━━━━━━━━\u001b[0m \u001b[32m73.6/73.6 kB\u001b[0m \u001b[31m2.1 MB/s\u001b[0m eta \u001b[36m0:00:00\u001b[0m\n",
            "\u001b[?25hRequirement already satisfied: requests>=2.20 in /usr/local/lib/python3.10/dist-packages (from openai) (2.31.0)\n",
            "Requirement already satisfied: tqdm in /usr/local/lib/python3.10/dist-packages (from openai) (4.66.1)\n",
            "Requirement already satisfied: aiohttp in /usr/local/lib/python3.10/dist-packages (from openai) (3.8.5)\n",
            "Requirement already satisfied: charset-normalizer<4,>=2 in /usr/local/lib/python3.10/dist-packages (from requests>=2.20->openai) (3.2.0)\n",
            "Requirement already satisfied: idna<4,>=2.5 in /usr/local/lib/python3.10/dist-packages (from requests>=2.20->openai) (3.4)\n",
            "Requirement already satisfied: urllib3<3,>=1.21.1 in /usr/local/lib/python3.10/dist-packages (from requests>=2.20->openai) (2.0.4)\n",
            "Requirement already satisfied: certifi>=2017.4.17 in /usr/local/lib/python3.10/dist-packages (from requests>=2.20->openai) (2023.7.22)\n",
            "Requirement already satisfied: attrs>=17.3.0 in /usr/local/lib/python3.10/dist-packages (from aiohttp->openai) (23.1.0)\n",
            "Requirement already satisfied: multidict<7.0,>=4.5 in /usr/local/lib/python3.10/dist-packages (from aiohttp->openai) (6.0.4)\n",
            "Requirement already satisfied: async-timeout<5.0,>=4.0.0a3 in /usr/local/lib/python3.10/dist-packages (from aiohttp->openai) (4.0.3)\n",
            "Requirement already satisfied: yarl<2.0,>=1.0 in /usr/local/lib/python3.10/dist-packages (from aiohttp->openai) (1.9.2)\n",
            "Requirement already satisfied: frozenlist>=1.1.1 in /usr/local/lib/python3.10/dist-packages (from aiohttp->openai) (1.4.0)\n",
            "Requirement already satisfied: aiosignal>=1.1.2 in /usr/local/lib/python3.10/dist-packages (from aiohttp->openai) (1.3.1)\n",
            "Installing collected packages: openai\n",
            "Successfully installed openai-0.27.8\n",
            "Collecting langchain\n",
            "  Downloading langchain-0.0.266-py3-none-any.whl (1.5 MB)\n",
            "\u001b[2K     \u001b[90m━━━━━━━━━━━━━━━━━━━━━━━━━━━━━━━━━━━━━━━━\u001b[0m \u001b[32m1.5/1.5 MB\u001b[0m \u001b[31m8.6 MB/s\u001b[0m eta \u001b[36m0:00:00\u001b[0m\n",
            "\u001b[?25hRequirement already satisfied: PyYAML>=5.3 in /usr/local/lib/python3.10/dist-packages (from langchain) (6.0.1)\n",
            "Requirement already satisfied: SQLAlchemy<3,>=1.4 in /usr/local/lib/python3.10/dist-packages (from langchain) (2.0.19)\n",
            "Requirement already satisfied: aiohttp<4.0.0,>=3.8.3 in /usr/local/lib/python3.10/dist-packages (from langchain) (3.8.5)\n",
            "Requirement already satisfied: async-timeout<5.0.0,>=4.0.0 in /usr/local/lib/python3.10/dist-packages (from langchain) (4.0.3)\n",
            "Collecting dataclasses-json<0.6.0,>=0.5.7 (from langchain)\n",
            "  Downloading dataclasses_json-0.5.14-py3-none-any.whl (26 kB)\n",
            "Collecting langsmith<0.1.0,>=0.0.21 (from langchain)\n",
            "  Downloading langsmith-0.0.24-py3-none-any.whl (33 kB)\n",
            "Requirement already satisfied: numexpr<3.0.0,>=2.8.4 in /usr/local/lib/python3.10/dist-packages (from langchain) (2.8.5)\n",
            "Requirement already satisfied: numpy<2,>=1 in /usr/local/lib/python3.10/dist-packages (from langchain) (1.23.5)\n",
            "Collecting openapi-schema-pydantic<2.0,>=1.2 (from langchain)\n",
            "  Downloading openapi_schema_pydantic-1.2.4-py3-none-any.whl (90 kB)\n",
            "\u001b[2K     \u001b[90m━━━━━━━━━━━━━━━━━━━━━━━━━━━━━━━━━━━━━━━━\u001b[0m \u001b[32m90.0/90.0 kB\u001b[0m \u001b[31m9.9 MB/s\u001b[0m eta \u001b[36m0:00:00\u001b[0m\n",
            "\u001b[?25hCollecting pydantic<2,>=1 (from langchain)\n",
            "  Downloading pydantic-1.10.12-cp310-cp310-manylinux_2_17_x86_64.manylinux2014_x86_64.whl (3.1 MB)\n",
            "\u001b[2K     \u001b[90m━━━━━━━━━━━━━━━━━━━━━━━━━━━━━━━━━━━━━━━━\u001b[0m \u001b[32m3.1/3.1 MB\u001b[0m \u001b[31m23.2 MB/s\u001b[0m eta \u001b[36m0:00:00\u001b[0m\n",
            "\u001b[?25hRequirement already satisfied: requests<3,>=2 in /usr/local/lib/python3.10/dist-packages (from langchain) (2.31.0)\n",
            "Requirement already satisfied: tenacity<9.0.0,>=8.1.0 in /usr/local/lib/python3.10/dist-packages (from langchain) (8.2.2)\n",
            "Requirement already satisfied: attrs>=17.3.0 in /usr/local/lib/python3.10/dist-packages (from aiohttp<4.0.0,>=3.8.3->langchain) (23.1.0)\n",
            "Requirement already satisfied: charset-normalizer<4.0,>=2.0 in /usr/local/lib/python3.10/dist-packages (from aiohttp<4.0.0,>=3.8.3->langchain) (3.2.0)\n",
            "Requirement already satisfied: multidict<7.0,>=4.5 in /usr/local/lib/python3.10/dist-packages (from aiohttp<4.0.0,>=3.8.3->langchain) (6.0.4)\n",
            "Requirement already satisfied: yarl<2.0,>=1.0 in /usr/local/lib/python3.10/dist-packages (from aiohttp<4.0.0,>=3.8.3->langchain) (1.9.2)\n",
            "Requirement already satisfied: frozenlist>=1.1.1 in /usr/local/lib/python3.10/dist-packages (from aiohttp<4.0.0,>=3.8.3->langchain) (1.4.0)\n",
            "Requirement already satisfied: aiosignal>=1.1.2 in /usr/local/lib/python3.10/dist-packages (from aiohttp<4.0.0,>=3.8.3->langchain) (1.3.1)\n",
            "Collecting marshmallow<4.0.0,>=3.18.0 (from dataclasses-json<0.6.0,>=0.5.7->langchain)\n",
            "  Downloading marshmallow-3.20.1-py3-none-any.whl (49 kB)\n",
            "\u001b[2K     \u001b[90m━━━━━━━━━━━━━━━━━━━━━━━━━━━━━━━━━━━━━━━━\u001b[0m \u001b[32m49.4/49.4 kB\u001b[0m \u001b[31m4.5 MB/s\u001b[0m eta \u001b[36m0:00:00\u001b[0m\n",
            "\u001b[?25hCollecting typing-inspect<1,>=0.4.0 (from dataclasses-json<0.6.0,>=0.5.7->langchain)\n",
            "  Downloading typing_inspect-0.9.0-py3-none-any.whl (8.8 kB)\n",
            "Requirement already satisfied: typing-extensions>=4.2.0 in /usr/local/lib/python3.10/dist-packages (from pydantic<2,>=1->langchain) (4.7.1)\n",
            "Requirement already satisfied: idna<4,>=2.5 in /usr/local/lib/python3.10/dist-packages (from requests<3,>=2->langchain) (3.4)\n",
            "Requirement already satisfied: urllib3<3,>=1.21.1 in /usr/local/lib/python3.10/dist-packages (from requests<3,>=2->langchain) (2.0.4)\n",
            "Requirement already satisfied: certifi>=2017.4.17 in /usr/local/lib/python3.10/dist-packages (from requests<3,>=2->langchain) (2023.7.22)\n",
            "Requirement already satisfied: greenlet!=0.4.17 in /usr/local/lib/python3.10/dist-packages (from SQLAlchemy<3,>=1.4->langchain) (2.0.2)\n",
            "Requirement already satisfied: packaging>=17.0 in /usr/local/lib/python3.10/dist-packages (from marshmallow<4.0.0,>=3.18.0->dataclasses-json<0.6.0,>=0.5.7->langchain) (23.1)\n",
            "Collecting mypy-extensions>=0.3.0 (from typing-inspect<1,>=0.4.0->dataclasses-json<0.6.0,>=0.5.7->langchain)\n",
            "  Downloading mypy_extensions-1.0.0-py3-none-any.whl (4.7 kB)\n",
            "Installing collected packages: pydantic, mypy-extensions, marshmallow, typing-inspect, openapi-schema-pydantic, langsmith, dataclasses-json, langchain\n",
            "  Attempting uninstall: pydantic\n",
            "    Found existing installation: pydantic 2.1.1\n",
            "    Uninstalling pydantic-2.1.1:\n",
            "      Successfully uninstalled pydantic-2.1.1\n",
            "Successfully installed dataclasses-json-0.5.14 langchain-0.0.266 langsmith-0.0.24 marshmallow-3.20.1 mypy-extensions-1.0.0 openapi-schema-pydantic-1.2.4 pydantic-1.10.12 typing-inspect-0.9.0\n",
            "Collecting python-dotenv\n",
            "  Downloading python_dotenv-1.0.0-py3-none-any.whl (19 kB)\n",
            "Installing collected packages: python-dotenv\n",
            "Successfully installed python-dotenv-1.0.0\n"
          ]
        }
      ],
      "source": [
        "! pip install openai\n",
        "! pip install langchain\n",
        "! pip install python-dotenv"
      ]
    },
    {
      "cell_type": "code",
      "source": [
        "import os\n",
        "import openai\n",
        "from langchain.chat_models import ChatOpenAI"
      ],
      "metadata": {
        "id": "rMgcVijdseZ8"
      },
      "execution_count": null,
      "outputs": []
    },
    {
      "cell_type": "markdown",
      "source": [
        "## 2. Import Credentials"
      ],
      "metadata": {
        "id": "Lk2Kc2nLsfgb"
      }
    },
    {
      "cell_type": "code",
      "source": [
        "from dotenv import load_dotenv, find_dotenv\n",
        "_ = load_dotenv(find_dotenv()) # read local .env file\n",
        "openai.api_key = os.environ['OPENAI_API_KEY']"
      ],
      "metadata": {
        "id": "jZGRFtB9smNs"
      },
      "execution_count": null,
      "outputs": []
    },
    {
      "cell_type": "markdown",
      "source": [
        "## 3. LLM call using LangChain"
      ],
      "metadata": {
        "id": "f_SoPt1KtKMs"
      }
    },
    {
      "cell_type": "code",
      "source": [
        "from langchain.chat_models import ChatOpenAI"
      ],
      "metadata": {
        "id": "n_K8f6RFtFr_"
      },
      "execution_count": null,
      "outputs": []
    },
    {
      "cell_type": "code",
      "source": [
        "chat = ChatOpenAI(temperature=0.0)\n",
        "chat"
      ],
      "metadata": {
        "id": "o0EpjmpgtG20"
      },
      "execution_count": null,
      "outputs": []
    },
    {
      "cell_type": "markdown",
      "source": [
        "## 4. Create Prompt Template"
      ],
      "metadata": {
        "id": "d2vuYz0qtVcc"
      }
    },
    {
      "cell_type": "code",
      "source": [
        "{\"area\":\"Almada\",\n",
        " \"type_room\":\"double\",\n",
        " \"price_value\":500,\n",
        " \"availability_from\":\"Aug\",\n",
        " \"number_months\":6\n",
        "}"
      ],
      "metadata": {
        "id": "Mb3XzS_DwSHc"
      },
      "execution_count": null,
      "outputs": []
    },
    {
      "cell_type": "code",
      "source": [
        "rent_annoucement = \"\"\"\n",
        "Room available with river view! Almada.\n",
        "Great room, close to Cristo Rey, amazing kitchen, River view, close to metro and train and bus, available for 1 or 2 months max. (aug - oct)\n",
        "Pet friendly, all services included (Wifi, washing machine, water and electriciy)\n",
        "475 euros per month. (room only for 1 person), you will be sharing the house only with one more room with my wife, me and our puppy\n",
        "\"\"\""
      ],
      "metadata": {
        "id": "eCCmf0QttG5s"
      },
      "execution_count": null,
      "outputs": []
    },
    {
      "cell_type": "code",
      "source": [
        "rent_template = \"\"\"\\\n",
        "For the following text of , extract the following information:\n",
        "\n",
        "area: where the apartment is located\n",
        "\n",
        "type_room: Is the room single or double? Answer single or double\n",
        "\n",
        "number_roomates: number of roomates\n",
        "\n",
        "price_value: Extract value of the price of rented room\n",
        "\n",
        "availability_from: when the room is available\n",
        "\n",
        "number_months: number of month of availability of the room\n",
        "\n",
        "Format the output as JSON with the following keys:\n",
        "area\n",
        "type_room\n",
        "number_roomates\n",
        "price_value\n",
        "availability_from\n",
        "number_months\n",
        "\n",
        "text: {text}\n",
        "\"\"\""
      ],
      "metadata": {
        "id": "NyIj-xkZtG8c"
      },
      "execution_count": null,
      "outputs": []
    },
    {
      "cell_type": "code",
      "source": [
        "from langchain.prompts import ChatPromptTemplate\n",
        "prompt_template = ChatPromptTemplate.from_template(rent_template)\n",
        "print(prompt_template)"
      ],
      "metadata": {
        "colab": {
          "base_uri": "https://localhost:8080/"
        },
        "id": "0y4O8S7F1LR1",
        "outputId": "6864865f-834f-46a4-8a2a-a8bb8afcfada"
      },
      "execution_count": null,
      "outputs": [
        {
          "output_type": "stream",
          "name": "stdout",
          "text": [
            "input_variables=['text'] output_parser=None partial_variables={} messages=[HumanMessagePromptTemplate(prompt=PromptTemplate(input_variables=['text'], output_parser=None, partial_variables={}, template='For the following text of , extract the following information:\\n\\narea: where the apartment is located\\n\\ntype_room: Is the room single or double? Answer single or double\\n\\nnumber_roomates: number of roomates\\n\\nprice_value: Extract value of the price of rented room\\n\\navailability_from: when the room is available\\n\\nnumber_months: number of month of availability of the room\\n\\nFormat the output as JSON with the following keys:\\narea\\ntype_room\\nnumber_roomates\\nprice_value\\navailability_from\\nnumber_months\\n\\ntext: {text}\\n', template_format='f-string', validate_template=True), additional_kwargs={})]\n"
          ]
        }
      ]
    },
    {
      "cell_type": "code",
      "source": [
        "messages = prompt_template.format_messages(text=rent_annoucement)\n",
        "response = chat(messages)\n",
        "print(response.content)"
      ],
      "metadata": {
        "colab": {
          "base_uri": "https://localhost:8080/"
        },
        "id": "Q-X8Ln051Vf0",
        "outputId": "df6e4f11-e091-4c61-c400-3bd6219330d5"
      },
      "execution_count": null,
      "outputs": [
        {
          "output_type": "stream",
          "name": "stdout",
          "text": [
            "{\n",
            "  \"area\": \"Almada\",\n",
            "  \"type_room\": \"single\",\n",
            "  \"number_roomates\": 3,\n",
            "  \"price_value\": 475,\n",
            "  \"availability_from\": \"aug\",\n",
            "  \"number_months\": 2\n",
            "}\n"
          ]
        }
      ]
    },
    {
      "cell_type": "code",
      "source": [
        "type(response.content)"
      ],
      "metadata": {
        "colab": {
          "base_uri": "https://localhost:8080/"
        },
        "id": "JyPCgDFC1333",
        "outputId": "8cd216fd-e2b0-4f24-ffe0-057035197018"
      },
      "execution_count": null,
      "outputs": [
        {
          "output_type": "execute_result",
          "data": {
            "text/plain": [
              "str"
            ]
          },
          "metadata": {},
          "execution_count": 13
        }
      ]
    },
    {
      "cell_type": "markdown",
      "source": [
        "## 5. Add Schema"
      ],
      "metadata": {
        "id": "iGEZcv932nXd"
      }
    },
    {
      "cell_type": "code",
      "source": [
        "from langchain.output_parsers import ResponseSchema\n",
        "from langchain.output_parsers import StructuredOutputParser"
      ],
      "metadata": {
        "id": "eBuPuKxN2ky1"
      },
      "execution_count": null,
      "outputs": []
    },
    {
      "cell_type": "code",
      "source": [
        "area_schema = ResponseSchema(name=\"area\",\n",
        "                             description=\"where the apartment is located\")\n",
        "type_room_schema = ResponseSchema(name=\"type_room\",\n",
        "                                      description=\"Is the room single or double? Answer single or double\")\n",
        "number_roomates_schema = ResponseSchema(name=\"number_roomates\",\n",
        "                                    description=\"number of roomates in the appartment or in the house\")\n",
        "\n",
        "price_value_schema = ResponseSchema(name=\"price_value\",\n",
        "                                    description=\"Extract value of the price of rented room\")\n",
        "\n",
        "availability_from_schema = ResponseSchema(name=\"price_value\",\n",
        "                                    description=\"when the room is available\")\n",
        "\n",
        "number_months_schema = ResponseSchema(name=\"number_months\",\n",
        "                                    description=\"number of months of availability of the room\")\n",
        "\n",
        "response_schemas = [area_schema, type_room_schema, number_roomates_schema, price_value_schema, availability_from_schema, number_months_schema]"
      ],
      "metadata": {
        "id": "cmNagrRo2k1t"
      },
      "execution_count": null,
      "outputs": []
    },
    {
      "cell_type": "code",
      "source": [
        "output_parser = StructuredOutputParser.from_response_schemas(response_schemas)"
      ],
      "metadata": {
        "id": "PJZS7-UX44jN"
      },
      "execution_count": null,
      "outputs": []
    },
    {
      "cell_type": "code",
      "source": [
        "format_instructions = output_parser.get_format_instructions()"
      ],
      "metadata": {
        "id": "qlidlJbT447F"
      },
      "execution_count": null,
      "outputs": []
    },
    {
      "cell_type": "code",
      "source": [
        "print(format_instructions)"
      ],
      "metadata": {
        "colab": {
          "base_uri": "https://localhost:8080/"
        },
        "id": "Hrs1QvtH45Af",
        "outputId": "a163db85-14a8-4e98-f944-66a9f32ac4cd"
      },
      "execution_count": null,
      "outputs": [
        {
          "output_type": "stream",
          "name": "stdout",
          "text": [
            "The output should be a markdown code snippet formatted in the following schema, including the leading and trailing \"```json\" and \"```\":\n",
            "\n",
            "```json\n",
            "{\n",
            "\t\"area\": string  // where the apartment is located\n",
            "\t\"type_room\": string  // Is the room single or double? Answer single or double\n",
            "\t\"number_roomates\": string  // number of roomates in the appartment or in the house\n",
            "\t\"price_value\": string  // Extract value of the price of rented room\n",
            "\t\"price_value\": string  // when the room is available\n",
            "\t\"number_months\": string  // number of months of availability of the room\n",
            "}\n",
            "```\n"
          ]
        }
      ]
    },
    {
      "cell_type": "code",
      "source": [
        "rent_annoucement = \"\"\"\n",
        "Room available with river view! Almada.\n",
        "Great room, close to Cristo Rey, amazing kitchen, River view, close to metro and train and bus, available for 1 or 2 months max. (aug - oct)\n",
        "Pet friendly, all services included (Wifi, washing machine, water and electriciy)\n",
        "475 euros per month. (room only for 1 person), you will be sharing the house only with one more room with my wife, me and our puppy\n",
        "\"\"\""
      ],
      "metadata": {
        "id": "yGxQzI9V5MTm"
      },
      "execution_count": null,
      "outputs": []
    },
    {
      "cell_type": "code",
      "source": [
        "rent_template_2 = \"\"\"\\\n",
        "For the following text of , extract the following information:\n",
        "\n",
        "area: where the apartment is located\n",
        "\n",
        "type_room: Is the room single or double? Answer single or double\n",
        "\n",
        "number_roomates: number of roomates in the appartment or in the house\n",
        "\n",
        "price_value: Extract value of the price of rented room\n",
        "\n",
        "availability_from: when the room is available\n",
        "\n",
        "number_months: number of months of availability of the room\n",
        "\n",
        "Format the output as JSON with the following keys:\n",
        "area\n",
        "type_room\n",
        "number_roomates\n",
        "price_value\n",
        "availability_from\n",
        "number_months\n",
        "\n",
        "text: {text}\n",
        "\n",
        "{format_instructions}\n",
        "\"\"\""
      ],
      "metadata": {
        "id": "llOMGkOj45C9"
      },
      "execution_count": null,
      "outputs": []
    },
    {
      "cell_type": "code",
      "source": [
        "prompt = ChatPromptTemplate.from_template(template=rent_template_2)\n",
        "\n",
        "messages = prompt.format_messages(text=rent_annoucement,\n",
        "                                format_instructions=format_instructions)"
      ],
      "metadata": {
        "id": "ADIUkE1I49_1"
      },
      "execution_count": null,
      "outputs": []
    },
    {
      "cell_type": "code",
      "source": [
        "print(messages[0].content)"
      ],
      "metadata": {
        "id": "AiJEH10B4-Ew"
      },
      "execution_count": null,
      "outputs": []
    },
    {
      "cell_type": "code",
      "source": [
        "response = chat(messages)\n",
        "print(response.content)"
      ],
      "metadata": {
        "colab": {
          "base_uri": "https://localhost:8080/"
        },
        "id": "W0Ch9SpU5Ptt",
        "outputId": "c6b7ada3-5746-4f5a-e5ad-5b4bfee436d5"
      },
      "execution_count": null,
      "outputs": [
        {
          "output_type": "stream",
          "name": "stdout",
          "text": [
            "```json\n",
            "{\n",
            "\t\"area\": \"Almada\",\n",
            "\t\"type_room\": \"single\",\n",
            "\t\"number_roomates\": \"3\",\n",
            "\t\"price_value\": \"475 euros per month\",\n",
            "\t\"availability_from\": \"aug\",\n",
            "\t\"number_months\": \"2\"\n",
            "}\n",
            "```\n"
          ]
        }
      ]
    },
    {
      "cell_type": "code",
      "source": [
        "output_dict = output_parser.parse(response.content)"
      ],
      "metadata": {
        "id": "JIhWBDY25Pxe"
      },
      "execution_count": null,
      "outputs": []
    },
    {
      "cell_type": "code",
      "source": [
        "output_dict"
      ],
      "metadata": {
        "colab": {
          "base_uri": "https://localhost:8080/"
        },
        "id": "b607f2pr5S1O",
        "outputId": "765007ac-62be-449a-ee14-008130a8bc03"
      },
      "execution_count": null,
      "outputs": [
        {
          "output_type": "execute_result",
          "data": {
            "text/plain": [
              "{'area': 'Almada',\n",
              " 'type_room': 'single',\n",
              " 'number_roomates': '3',\n",
              " 'price_value': '475 euros per month',\n",
              " 'availability_from': 'aug',\n",
              " 'number_months': '2'}"
            ]
          },
          "metadata": {},
          "execution_count": 60
        }
      ]
    },
    {
      "cell_type": "code",
      "source": [
        "type(output_dict)"
      ],
      "metadata": {
        "colab": {
          "base_uri": "https://localhost:8080/"
        },
        "id": "cjC_HKOt5S4N",
        "outputId": "b54f67e6-8e41-49a5-fcdf-9447df8fe548"
      },
      "execution_count": null,
      "outputs": [
        {
          "output_type": "execute_result",
          "data": {
            "text/plain": [
              "dict"
            ]
          },
          "metadata": {},
          "execution_count": 61
        }
      ]
    },
    {
      "cell_type": "code",
      "source": [
        "output_dict.get('number_months')"
      ],
      "metadata": {
        "colab": {
          "base_uri": "https://localhost:8080/",
          "height": 35
        },
        "id": "rMLVNulu5VFV",
        "outputId": "2f30072b-a012-4ca8-9570-aeeae347253d"
      },
      "execution_count": null,
      "outputs": [
        {
          "output_type": "execute_result",
          "data": {
            "text/plain": [
              "'2'"
            ],
            "application/vnd.google.colaboratory.intrinsic+json": {
              "type": "string"
            }
          },
          "metadata": {},
          "execution_count": 62
        }
      ]
    },
    {
      "cell_type": "markdown",
      "source": [
        "### Other example"
      ],
      "metadata": {
        "id": "LK8rZqCt6mHu"
      }
    },
    {
      "cell_type": "code",
      "source": [
        "rent_annoucement_2 = \"\"\"\n",
        "AVAILABLE ROOM IN CARCAVELOS\n",
        "DATE: 1st July 2023 - 30th July 2023\n",
        "PRICE: 465€\n",
        "Refurnished apartment with capacity for 6 people, with 2 shared bathrooms and 1 private bathroom, located in Oeiras, only 7 minutes walking to Nova SBE campus in Carcavelos, 11 minutes walking from Oeiras train station and around 20 minutes walking to Carcavelos beach. From Oeiras train station you will take around 25 minutes to arrive to Cais de Sodré, Lisbon. The apartment is located on lower 4th floor, in a safe and quite neighbourhood, surrounded by green parks. Bus station is located 2 minutes walking and the nearest supermarket available is Pingo Doce, only 7 minutes walking. The apartment is decorated with a sober nordic style, is fully equipped and has all amenities you need. Ideal for someone looking for proximity to NOVA SBE, NATO or to the beach. No elevator. Includes expenses up to 40 monthly. Only July available. Every extra day in August 60€\n",
        "\"\"\""
      ],
      "metadata": {
        "id": "rn6gRhQP6kru"
      },
      "execution_count": null,
      "outputs": []
    },
    {
      "cell_type": "code",
      "source": [
        "prompt = ChatPromptTemplate.from_template(template=rent_template_2)\n",
        "\n",
        "messages = prompt.format_messages(text=rent_annoucement_2,\n",
        "                                format_instructions=format_instructions)"
      ],
      "metadata": {
        "id": "glA-IJXb7jtX"
      },
      "execution_count": null,
      "outputs": []
    },
    {
      "cell_type": "code",
      "source": [
        "print(messages[0].content)"
      ],
      "metadata": {
        "colab": {
          "base_uri": "https://localhost:8080/"
        },
        "id": "zPip_3fo6pb2",
        "outputId": "76c6340f-8c21-42c2-af2f-14fd99cc3c63"
      },
      "execution_count": null,
      "outputs": [
        {
          "output_type": "stream",
          "name": "stdout",
          "text": [
            "For the following text of , extract the following information:\n",
            "\n",
            "area: where the apartment is located\n",
            "\n",
            "type_room: Is the room single or double? Answer single or double\n",
            "\n",
            "number_roomates: number of roomates in the appartment or in the house\n",
            "\n",
            "price_value: Extract value of the price of rented room\n",
            "\n",
            "availability_from: when the room is available\n",
            "\n",
            "number_months: number of months of availability of the room\n",
            "\n",
            "Format the output as JSON with the following keys:\n",
            "area\n",
            "type_room\n",
            "number_roomates\n",
            "price_value\n",
            "availability_from\n",
            "number_months\n",
            "\n",
            "text: \n",
            "AVAILABLE ROOM IN CARCAVELOS\n",
            "DATE: 1st July 2023 - 30th July 2023\n",
            "PRICE: 465€\n",
            "Refurnished apartment with capacity for 6 people, with 2 shared bathrooms and 1 private bathroom, located in Oeiras, only 7 minutes walking to Nova SBE campus in Carcavelos, 11 minutes walking from Oeiras train station and around 20 minutes walking to Carcavelos beach. From Oeiras train station you will take around 25 minutes to arrive to Cais de Sodré, Lisbon. The apartment is located on lower 4th floor, in a safe and quite neighbourhood, surrounded by green parks. Bus station is located 2 minutes walking and the nearest supermarket available is Pingo Doce, only 7 minutes walking. The apartment is decorated with a sober nordic style, is fully equipped and has all amenities you need. Ideal for someone looking for proximity to NOVA SBE, NATO or to the beach. No elevator. Includes expenses up to 40 monthly. Only July available. Every extra day in August 60€\n",
            "\n",
            "\n",
            "The output should be a markdown code snippet formatted in the following schema, including the leading and trailing \"```json\" and \"```\":\n",
            "\n",
            "```json\n",
            "{\n",
            "\t\"area\": string  // where the apartment is located\n",
            "\t\"type_room\": string  // Is the room single or double? Answer single or double\n",
            "\t\"number_roomates\": string  // number of roomates in the appartment or in the house\n",
            "\t\"price_value\": string  // Extract value of the price of rented room\n",
            "\t\"price_value\": string  // when the room is available\n",
            "\t\"number_months\": string  // number of months of availability of the room\n",
            "}\n",
            "```\n",
            "\n"
          ]
        }
      ]
    },
    {
      "cell_type": "code",
      "source": [
        "response = chat(messages)\n",
        "print(response.content)"
      ],
      "metadata": {
        "colab": {
          "base_uri": "https://localhost:8080/"
        },
        "id": "d9X92R_x7o43",
        "outputId": "77f660c1-b93c-4959-c991-8dc81e1ff6c2"
      },
      "execution_count": null,
      "outputs": [
        {
          "output_type": "stream",
          "name": "stdout",
          "text": [
            "```json\n",
            "{\n",
            "\t\"area\": \"Carcavelos\",\n",
            "\t\"type_room\": \"single\",\n",
            "\t\"number_roomates\": \"6\",\n",
            "\t\"price_value\": \"465€\",\n",
            "\t\"availability_from\": \"1st July 2023\",\n",
            "\t\"number_months\": \"1\"\n",
            "}\n",
            "```\n"
          ]
        }
      ]
    },
    {
      "cell_type": "code",
      "source": [
        "output_dict = output_parser.parse(response.content)"
      ],
      "metadata": {
        "id": "XdPcVKsn6pen"
      },
      "execution_count": null,
      "outputs": []
    },
    {
      "cell_type": "code",
      "source": [
        "output_dict"
      ],
      "metadata": {
        "colab": {
          "base_uri": "https://localhost:8080/"
        },
        "id": "Z9Rvs4cO6phf",
        "outputId": "f90c4429-687d-4927-f770-5cf652945674"
      },
      "execution_count": null,
      "outputs": [
        {
          "output_type": "execute_result",
          "data": {
            "text/plain": [
              "{'area': 'Carcavelos',\n",
              " 'type_room': 'single',\n",
              " 'number_roomates': '6',\n",
              " 'price_value': '465€',\n",
              " 'availability_from': '1st July 2023',\n",
              " 'number_months': '1'}"
            ]
          },
          "metadata": {},
          "execution_count": 68
        }
      ]
    },
    {
      "cell_type": "code",
      "source": [
        "type(output_dict)"
      ],
      "metadata": {
        "colab": {
          "base_uri": "https://localhost:8080/"
        },
        "id": "BmXGdwJY7r14",
        "outputId": "fb478f06-ac8a-4292-9cef-39d1c20c3a53"
      },
      "execution_count": null,
      "outputs": [
        {
          "output_type": "execute_result",
          "data": {
            "text/plain": [
              "dict"
            ]
          },
          "metadata": {},
          "execution_count": 69
        }
      ]
    },
    {
      "cell_type": "code",
      "source": [
        "output_dict.get('number_months')"
      ],
      "metadata": {
        "colab": {
          "base_uri": "https://localhost:8080/",
          "height": 35
        },
        "id": "NrKJDaOp7s71",
        "outputId": "12276719-e84c-43bb-adc8-be71b823dd1c"
      },
      "execution_count": null,
      "outputs": [
        {
          "output_type": "execute_result",
          "data": {
            "text/plain": [
              "'1'"
            ],
            "application/vnd.google.colaboratory.intrinsic+json": {
              "type": "string"
            }
          },
          "metadata": {},
          "execution_count": 70
        }
      ]
    },
    {
      "cell_type": "code",
      "source": [],
      "metadata": {
        "id": "VVm6fVfG73iz"
      },
      "execution_count": null,
      "outputs": []
    }
  ]
}